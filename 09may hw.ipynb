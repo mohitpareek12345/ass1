{
 "cells": [
  {
   "cell_type": "code",
   "execution_count": 4,
   "id": "c3772cde-419d-41b7-8f75-cf9bd309487f",
   "metadata": {},
   "outputs": [
    {
     "name": "stdout",
     "output_type": "stream",
     "text": [
      "<class 'str'>\n",
      "<class 'list'>\n",
      "<class 'float'>\n",
      "<class 'tuple'>\n"
     ]
    }
   ],
   "source": [
    "#Q1\n",
    "a=\"pareek\"\n",
    "b=[\"moi\",\"par\",12,12.69]\n",
    "c=17.89\n",
    "d=(2,3,6)\n",
    "print(type(a))\n",
    "print(type(b))\n",
    "print(type(c))\n",
    "print(type(d))"
   ]
  },
  {
   "cell_type": "code",
   "execution_count": 5,
   "id": "b3673616-f775-436d-8d3b-283e9473dfac",
   "metadata": {},
   "outputs": [
    {
     "name": "stdout",
     "output_type": "stream",
     "text": [
      "<class 'str'>\n",
      "<class 'str'>\n",
      "<class 'list'>\n",
      "<class 'int'>\n"
     ]
    }
   ],
   "source": [
    "#Q2\n",
    "var1 = ' '\n",
    "var2 = '[ DS , ML , Python]'\n",
    "var3 = ['DS' , 'ML' , 'Python']\n",
    "var4 = 1\n",
    "print(type(var1))\n",
    "print(type(var2))\n",
    "print(type(var3))\n",
    "print(type(var4))\n",
    "\n"
   ]
  },
  {
   "cell_type": "code",
   "execution_count": 8,
   "id": "444467f2-9d8f-4dd5-a3b2-8920eaae1fa1",
   "metadata": {},
   "outputs": [
    {
     "name": "stdout",
     "output_type": "stream",
     "text": [
      "2.5\n",
      "1\n",
      "2\n",
      "25\n"
     ]
    }
   ],
   "source": [
    "#Q3\n",
    "print(5/2)\n",
    "print(5%2)\n",
    "print(5//2)\n",
    "print(5**2)"
   ]
  },
  {
   "cell_type": "code",
   "execution_count": null,
   "id": "b71a0c8f-b599-4176-b6d4-d2e2ed0b9b08",
   "metadata": {},
   "outputs": [],
   "source": [
    "#Q4\n",
    "lst=[\"p\",\"a\",1,2,3,4,\"lak\",[3],90,(3)]\n",
    "for i in lst:\n",
    "    print(i)\n",
    "    print(type(i))"
   ]
  },
  {
   "cell_type": "code",
   "execution_count": null,
   "id": "87f6197b-79c1-4e4c-9d6a-f96de961af1e",
   "metadata": {},
   "outputs": [],
   "source": [
    "#Q5\n",
    "a=int(input(\"enter no1\"))\n",
    "b=int(input(\"enter no2\"))\n",
    "i=0\n",
    "while i<1:\n",
    "    if (a%b)==0:\n",
    "        print(\"verify\")\n",
    "        print(a//b)\n",
    "        i=i+1\n",
    "    else:\n",
    "        print(\"not verify\")\n",
    "        i=i+1"
   ]
  },
  {
   "cell_type": "code",
   "execution_count": null,
   "id": "a91a782e-2cfc-4d15-94d3-261d3afe50d0",
   "metadata": {},
   "outputs": [],
   "source": [
    "#Q6\n",
    "l1=list(range(25))\n",
    "for i in l1:\n",
    "    if i%3==0:\n",
    "        print(i)\n",
    "    else:\n",
    "        pass\n",
    "    \n",
    "\n"
   ]
  },
  {
   "cell_type": "code",
   "execution_count": null,
   "id": "3378a9a0-c6bc-46df-a7a9-8326a43246cf",
   "metadata": {},
   "outputs": [],
   "source": [
    "#Q7\n",
    "str=[\"palak sharma\",12,4.256]\n",
    "str[0]=\"moh\"\n",
    "print(str) #list is mutable \n",
    "str[0][1]=\"k\"#string is not mutable\n",
    "print(str)\n",
    "\n"
   ]
  },
  {
   "cell_type": "code",
   "execution_count": null,
   "id": "254d9190-5513-48d1-ab9c-f2adc8f43e62",
   "metadata": {},
   "outputs": [],
   "source": []
  }
 ],
 "metadata": {
  "kernelspec": {
   "display_name": "Python 3 (ipykernel)",
   "language": "python",
   "name": "python3"
  },
  "language_info": {
   "codemirror_mode": {
    "name": "ipython",
    "version": 3
   },
   "file_extension": ".py",
   "mimetype": "text/x-python",
   "name": "python",
   "nbconvert_exporter": "python",
   "pygments_lexer": "ipython3",
   "version": "3.10.8"
  }
 },
 "nbformat": 4,
 "nbformat_minor": 5
}
